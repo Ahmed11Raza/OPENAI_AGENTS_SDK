{
  "nbformat": 4,
  "nbformat_minor": 0,
  "metadata": {
    "colab": {
      "provenance": [],
      "authorship_tag": "ABX9TyMa1c9UDQUwHfE19sSS/kjK",
      "include_colab_link": true
    },
    "kernelspec": {
      "name": "python3",
      "display_name": "Python 3"
    },
    "language_info": {
      "name": "python"
    }
  },
  "cells": [
    {
      "cell_type": "markdown",
      "metadata": {
        "id": "view-in-github",
        "colab_type": "text"
      },
      "source": [
        "<a href=\"https://colab.research.google.com/github/Ahmed11Raza/OPENAI_AGENTS_SDK/blob/main/guardrials.ipynb\" target=\"_parent\"><img src=\"https://colab.research.google.com/assets/colab-badge.svg\" alt=\"Open In Colab\"/></a>"
      ]
    },
    {
      "cell_type": "code",
      "execution_count": 1,
      "metadata": {
        "colab": {
          "base_uri": "https://localhost:8080/"
        },
        "id": "6Rks4OTfezDf",
        "outputId": "ebe8e4cb-ef8d-45d6-9753-c85dfe363e5c"
      },
      "outputs": [
        {
          "output_type": "stream",
          "name": "stdout",
          "text": [
            "\u001b[?25l   \u001b[90m━━━━━━━━━━━━━━━━━━━━━━━━━━━━━━━━━━━━━━━━\u001b[0m \u001b[32m0.0/121.9 kB\u001b[0m \u001b[31m?\u001b[0m eta \u001b[36m-:--:--\u001b[0m\r\u001b[2K   \u001b[90m━━━━━━━━━━━━━━━━━━━━━━━━━━━━━━━━━━━━━━━━\u001b[0m \u001b[32m121.9/121.9 kB\u001b[0m \u001b[31m6.6 MB/s\u001b[0m eta \u001b[36m0:00:00\u001b[0m\n",
            "\u001b[?25h\u001b[?25l   \u001b[90m━━━━━━━━━━━━━━━━━━━━━━━━━━━━━━━━━━━━━━━━\u001b[0m \u001b[32m0.0/129.3 kB\u001b[0m \u001b[31m?\u001b[0m eta \u001b[36m-:--:--\u001b[0m\r\u001b[2K   \u001b[90m━━━━━━━━━━━━━━━━━━━━━━━━━━━━━━━━━━━━━━━━\u001b[0m \u001b[32m129.3/129.3 kB\u001b[0m \u001b[31m8.5 MB/s\u001b[0m eta \u001b[36m0:00:00\u001b[0m\n",
            "\u001b[2K   \u001b[90m━━━━━━━━━━━━━━━━━━━━━━━━━━━━━━━━━━━━━━━━\u001b[0m \u001b[32m131.1/131.1 kB\u001b[0m \u001b[31m9.7 MB/s\u001b[0m eta \u001b[36m0:00:00\u001b[0m\n",
            "\u001b[2K   \u001b[90m━━━━━━━━━━━━━━━━━━━━━━━━━━━━━━━━━━━━━━━━\u001b[0m \u001b[32m44.4/44.4 kB\u001b[0m \u001b[31m2.8 MB/s\u001b[0m eta \u001b[36m0:00:00\u001b[0m\n",
            "\u001b[?25h"
          ]
        }
      ],
      "source": [
        "!pip install -Uq openai-agents pydantic"
      ]
    },
    {
      "cell_type": "code",
      "source": [
        "from pydantic import BaseModel\n",
        "from agents import (\n",
        "    Agent,\n",
        "    GuardrailFunctionOutput,\n",
        "    InputGuardrailTripwireTriggered,\n",
        "    OutputGuardrailTripwireTriggered,\n",
        "    RunContextWrapper,\n",
        "    Runner,\n",
        "    TResponseInputItem,\n",
        "    input_guardrail,\n",
        "    output_guardrail,\n",
        "    AsyncOpenAI,\n",
        "    OpenAIChatCompletionsModel,\n",
        "    RunConfig\n",
        ")\n",
        "from google.colab import userdata"
      ],
      "metadata": {
        "id": "GYUb_JGsfbGr"
      },
      "execution_count": 2,
      "outputs": []
    },
    {
      "cell_type": "code",
      "source": [
        "gemini_api_key = userdata.get(\"GEMINI_API_KEY\")\n",
        "\n",
        "\n",
        "# Check if the API key is present; if not, raise an error\n",
        "if not gemini_api_key:\n",
        "    raise ValueError(\"GEMINI_API_KEY is not set. Please ensure it is defined in your .env file.\")"
      ],
      "metadata": {
        "id": "i4cQjUjoffhc"
      },
      "execution_count": 4,
      "outputs": []
    },
    {
      "cell_type": "code",
      "source": [
        "#Reference: https://ai.google.dev/gemini-api/docs/openai\n",
        "external_client = AsyncOpenAI(\n",
        "    api_key=gemini_api_key,\n",
        "    base_url=\"https://generativelanguage.googleapis.com/v1beta/openai/\",\n",
        ")\n",
        "\n",
        "model = OpenAIChatCompletionsModel(\n",
        "    model=\"gemini-2.0-flash\",\n",
        "    openai_client=external_client\n",
        ")\n",
        "\n",
        "config = RunConfig(\n",
        "    model=model,\n",
        "    model_provider=external_client,\n",
        "    tracing_disabled=True\n",
        ")"
      ],
      "metadata": {
        "id": "QmGfxzrufoaZ"
      },
      "execution_count": 5,
      "outputs": []
    },
    {
      "cell_type": "code",
      "source": [
        "class MathHomeworkOutput(BaseModel):\n",
        "    is_math_homework: bool\n",
        "    reasoning: str\n",
        "\n",
        "guardrail_agent = Agent(\n",
        "    name=\"Guardrail check\",\n",
        "    instructions=\"Check if the user is asking you to do their math homework.\",\n",
        "    output_type=MathHomeworkOutput,\n",
        ")\n",
        "\n",
        "\n",
        "@input_guardrail\n",
        "async def math_guardrail(\n",
        "    ctx: RunContextWrapper[None], agent: Agent, input: str | list[TResponseInputItem]\n",
        ") -> GuardrailFunctionOutput:\n",
        "    result = await Runner.run(guardrail_agent, input, context=ctx.context, run_config = config)\n",
        "\n",
        "    return GuardrailFunctionOutput(\n",
        "        output_info=result.final_output,\n",
        "        # tripwire_triggered=False #result.final_output.is_math_homework,\n",
        "        tripwire_triggered=result.final_output.is_math_homework,\n",
        "    )"
      ],
      "metadata": {
        "id": "IzIMeMz5ftOu"
      },
      "execution_count": 6,
      "outputs": []
    },
    {
      "cell_type": "code",
      "source": [
        "agent = Agent(\n",
        "    name=\"Customer support agent\",\n",
        "    instructions=\"You are a customer support agent. You help customers with their questions.\",\n",
        "    input_guardrails=[math_guardrail],\n",
        ")"
      ],
      "metadata": {
        "id": "7Z70dw9qgP3j"
      },
      "execution_count": 7,
      "outputs": []
    },
    {
      "cell_type": "code",
      "source": [
        "# This should trip the guardrail\n",
        "\n",
        "try:\n",
        "    result = await Runner.run(agent, \"Hello, can you help me solve for x: 2x + 3 = 11?\", run_config = config)\n",
        "    print(\"Guardrail didn't trip - this is unexpected\")\n",
        "    print(result.final_output)\n",
        "\n",
        "except InputGuardrailTripwireTriggered:\n",
        "    print(\"Math homework guardrail tripped\")"
      ],
      "metadata": {
        "colab": {
          "base_uri": "https://localhost:8080/"
        },
        "id": "HTbAm9FxgTOt",
        "outputId": "b2e080ff-49d3-447b-d53e-64643bff9bac"
      },
      "execution_count": 8,
      "outputs": [
        {
          "output_type": "stream",
          "name": "stdout",
          "text": [
            "Math homework guardrail tripped\n"
          ]
        }
      ]
    },
    {
      "cell_type": "code",
      "source": [
        "try:\n",
        "    result = await Runner.run(agent, \"Hello\", run_config = config)\n",
        "    print(result.final_output)\n",
        "\n",
        "except InputGuardrailTripwireTriggered:\n",
        "    print(\"Math homework guardrail tripped\")"
      ],
      "metadata": {
        "colab": {
          "base_uri": "https://localhost:8080/"
        },
        "id": "tIY3WEQ4gZx1",
        "outputId": "e44f8d95-fe49-43d5-9be2-c3ce78bea130"
      },
      "execution_count": 9,
      "outputs": [
        {
          "output_type": "stream",
          "name": "stdout",
          "text": [
            "Hi there! How can I help you today?\n",
            "\n"
          ]
        }
      ]
    },
    {
      "cell_type": "code",
      "source": [
        "try:\n",
        "    result = await Runner.run(agent, \"can you solve 2+3 for me\", run_config = config)\n",
        "    print(result.final_output)\n",
        "\n",
        "except InputGuardrailTripwireTriggered:\n",
        "    print(\"Math homework guardrail tripped\")\n",
        ""
      ],
      "metadata": {
        "colab": {
          "base_uri": "https://localhost:8080/"
        },
        "id": "L5L0MX8QgdoB",
        "outputId": "f8d32af9-b53e-40af-e32c-371a8cd15410"
      },
      "execution_count": 10,
      "outputs": [
        {
          "output_type": "stream",
          "name": "stdout",
          "text": [
            "Math homework guardrail tripped\n"
          ]
        }
      ]
    },
    {
      "cell_type": "code",
      "source": [
        "class MessageOutput(BaseModel):\n",
        "    response: str\n",
        "\n",
        "class MathOutput(BaseModel):\n",
        "    is_math: bool\n",
        "    reasoning: str\n",
        "\n",
        "guardrail_agent2 = Agent(\n",
        "    name=\"Guardrail check\",\n",
        "    instructions=\"Check if the output includes any math.\",\n",
        "    output_type=MathOutput,\n",
        ")\n",
        "\n",
        "@output_guardrail\n",
        "async def math_guardrail2(\n",
        "    ctx: RunContextWrapper, agent: Agent, output: MessageOutput\n",
        ") -> GuardrailFunctionOutput:\n",
        "    result = await Runner.run(guardrail_agent2, output.response, context=ctx.context, run_config = config)\n",
        "\n",
        "    return GuardrailFunctionOutput(\n",
        "        output_info=result.final_output,\n",
        "        tripwire_triggered=result.final_output.is_math,\n",
        "    )"
      ],
      "metadata": {
        "id": "0AAJkuKkgkoO"
      },
      "execution_count": 11,
      "outputs": []
    },
    {
      "cell_type": "code",
      "source": [
        "agent2 = Agent(\n",
        "    name=\"Customer support agent\",\n",
        "    instructions=\"You are a customer support agent. You help customers with their questions.\",\n",
        "    output_guardrails=[math_guardrail2],\n",
        "    output_type=MessageOutput,\n",
        ")"
      ],
      "metadata": {
        "id": "qYQlpG4CgpT5"
      },
      "execution_count": 12,
      "outputs": []
    },
    {
      "cell_type": "code",
      "source": [
        "# This should trip the guardrail\n",
        "try:\n",
        "    await Runner.run(agent2, \"Hello, can you help me solve for x: 2x + 3 = 11?\", run_config = config)\n",
        "    print(\"Guardrail didn't trip - this is unexpected\")\n",
        "\n",
        "except OutputGuardrailTripwireTriggered:\n",
        "    print(\"Math output guardrail tripped\")"
      ],
      "metadata": {
        "colab": {
          "base_uri": "https://localhost:8080/"
        },
        "id": "Mu2mfusOgr6y",
        "outputId": "8882a158-a8fb-47ac-8cec-adc26ba4528b"
      },
      "execution_count": 13,
      "outputs": [
        {
          "output_type": "stream",
          "name": "stdout",
          "text": [
            "Math output guardrail tripped\n"
          ]
        }
      ]
    }
  ]
}